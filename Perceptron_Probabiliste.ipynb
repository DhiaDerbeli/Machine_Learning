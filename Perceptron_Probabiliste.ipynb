{
  "nbformat": 4,
  "nbformat_minor": 0,
  "metadata": {
    "colab": {
      "name": "Perceptron Probabiliste.ipynb",
      "provenance": [],
      "collapsed_sections": [],
      "authorship_tag": "ABX9TyPpQitagJfMpzFbvkYnWHFn",
      "include_colab_link": true
    },
    "kernelspec": {
      "name": "python3",
      "display_name": "Python 3"
    },
    "language_info": {
      "name": "python"
    }
  },
  "cells": [
    {
      "cell_type": "markdown",
      "metadata": {
        "id": "view-in-github",
        "colab_type": "text"
      },
      "source": [
        "<a href=\"https://colab.research.google.com/github/DhiaDerbeli/Machine_Learning/blob/main/Perceptron_Probabiliste.ipynb\" target=\"_parent\"><img src=\"https://colab.research.google.com/assets/colab-badge.svg\" alt=\"Open In Colab\"/></a>"
      ]
    },
    {
      "cell_type": "code",
      "metadata": {
        "id": "bsyIm-JWPxw9"
      },
      "source": [
        "import numpy as np\n",
        "import random\n",
        "from math import exp"
      ],
      "execution_count": 64,
      "outputs": []
    },
    {
      "cell_type": "code",
      "metadata": {
        "id": "gblNeRk7R_iS"
      },
      "source": [
        "def predict(a) :\n",
        "  phi = random.uniform(0,1)\n",
        "  proba = 1/(1 + exp(-a))\n",
        "  if phi < proba :\n",
        "    return 1\n",
        "  return 0\n",
        "\n"
      ],
      "execution_count": 65,
      "outputs": []
    },
    {
      "cell_type": "code",
      "metadata": {
        "id": "Sp26rnu1SFTv"
      },
      "source": [
        "for i in range(len(predicted)):\n",
        "  for j in range(len(predicted[0])):\n",
        "    predicted[i][j] = predict(predicted[i][j])"
      ],
      "execution_count": 66,
      "outputs": []
    },
    {
      "cell_type": "code",
      "metadata": {
        "id": "B-akq_vtUysx"
      },
      "source": [
        "x = np.array([[1,0,1],[1,1,0],[0,0,1],[0,1,1]])\n",
        "t = np.array([[0,0,1],[1,1,1],[0,1,0]])\n",
        "v = np.array([[0.9,0.78,0.64],[-0.54,0.52,-0.11],[0.21,-0.09,0.23],[-0.03,0.96,0.58]])\n",
        "predicted = np.matmul(np.transpose(v),x)\n",
        "learning_rate = 0.75\n",
        "iteration = 0\n",
        "for i in range(len(predicted)):\n",
        "  for j in range(len(predicted[0])):\n",
        "    predicted[i][j] = predict(predicted[i][j])\n",
        "while(np.array_equal(predicted,t) == False):\n",
        "  iteration = iteration + 1\n",
        "  v = v + learning_rate*np.matmul(x, np.transpose(t-predicted))\n",
        "  predicted = np.matmul(np.transpose(v),x)\n",
        "  for i in range(len(predicted)):\n",
        "    for j in range(len(predicted[0])):\n",
        "      predicted[i][j] = predict(predicted[i][j])"
      ],
      "execution_count": 74,
      "outputs": []
    },
    {
      "cell_type": "code",
      "metadata": {
        "colab": {
          "base_uri": "https://localhost:8080/"
        },
        "id": "-QyRsDo4W_jk",
        "outputId": "a48e9aec-96b2-4a00-c263-cd3f13a744ad"
      },
      "source": [
        "print(\"learning rate : \", learning_rate)\n",
        "print(\"number of iterations : \", iteration)\n",
        "print(\"matrix v : \")\n",
        "print(v)\n",
        "print()\n",
        "print(\"predictions : \")\n",
        "print(predicted)"
      ],
      "execution_count": 75,
      "outputs": [
        {
          "output_type": "stream",
          "name": "stdout",
          "text": [
            "learning rate :  0.75\n",
            "number of iterations :  7\n",
            "matrix v : \n",
            "[[ 0.9   3.03 -1.61]\n",
            " [-3.54  1.27  1.39]\n",
            " [ 1.71  1.41 -1.27]\n",
            " [-0.03  2.46  1.33]]\n",
            "\n",
            "predictions : \n",
            "[[0. 0. 1.]\n",
            " [1. 1. 1.]\n",
            " [0. 1. 0.]]\n"
          ]
        }
      ]
    },
    {
      "cell_type": "code",
      "metadata": {
        "id": "GNW90OXBdSQ7"
      },
      "source": [
        "#learning rate = 0.3 , matrix formula\n",
        "x = np.array([[1,0,1],[1,1,0],[0,0,1],[0,1,1]])\n",
        "t = np.array([[0,0,1],[1,1,1],[0,1,0]])\n",
        "v = np.array([[0.9,0.78,0.64],[-0.54,0.52,-0.11],[0.21,-0.09,0.23],[-0.03,0.96,0.58]])\n",
        "iteration = 0\n",
        "v = np.array([[0.9,0.78,0.64],[-0.54,0.52,-0.11],[0.21,-0.09,0.23],[-0.03,0.96,0.58]])\n",
        "predicted = np.matmul(np.transpose(v),x)\n",
        "learning_rate = 0.3\n",
        "for i in range(len(predicted)):\n",
        "  for j in range(len(predicted[0])):\n",
        "    predicted[i][j] = predict(predicted[i][j])\n",
        "while(np.array_equal(predicted,t) == False):\n",
        "  iteration = iteration + 1\n",
        "  v = v + learning_rate*np.matmul(x, np.transpose(t-predicted))\n",
        "  predicted = np.matmul(np.transpose(v),x)\n",
        "  for i in range(len(predicted)):\n",
        "    for j in range(len(predicted[0])):\n",
        "      predicted[i][j] = predict(predicted[i][j])"
      ],
      "execution_count": 70,
      "outputs": []
    },
    {
      "cell_type": "code",
      "metadata": {
        "id": "kbvav9pNsqLv",
        "colab": {
          "base_uri": "https://localhost:8080/"
        },
        "outputId": "ef065021-5b0e-4522-d60f-cb723a569dc0"
      },
      "source": [
        "print(\"learning rate : \", learning_rate)\n",
        "print(\"number of iterations : \", iteration)\n",
        "print(\"matrix v : \")\n",
        "print(v)\n",
        "print()\n",
        "print(\"predictions : \")\n",
        "print(predicted)"
      ],
      "execution_count": 71,
      "outputs": [
        {
          "output_type": "stream",
          "name": "stdout",
          "text": [
            "learning rate :  0.3\n",
            "number of iterations :  10\n",
            "matrix v : \n",
            "[[ 0.6   1.68 -1.46]\n",
            " [-2.64  0.82  0.19]\n",
            " [ 1.11  0.51 -0.97]\n",
            " [-0.03  1.56  0.58]]\n",
            "\n",
            "predictions : \n",
            "[[0. 0. 1.]\n",
            " [1. 1. 1.]\n",
            " [0. 1. 0.]]\n"
          ]
        }
      ]
    }
  ]
}