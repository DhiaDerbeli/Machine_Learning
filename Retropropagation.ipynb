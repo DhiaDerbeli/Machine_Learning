{
  "nbformat": 4,
  "nbformat_minor": 0,
  "metadata": {
    "colab": {
      "name": "Retropropagation.ipynb",
      "provenance": [],
      "collapsed_sections": [],
      "authorship_tag": "ABX9TyOzc7+4I4g1M8UwYU3KjbnE",
      "include_colab_link": true
    },
    "kernelspec": {
      "name": "python3",
      "display_name": "Python 3"
    },
    "language_info": {
      "name": "python"
    }
  },
  "cells": [
    {
      "cell_type": "markdown",
      "metadata": {
        "id": "view-in-github",
        "colab_type": "text"
      },
      "source": [
        "<a href=\"https://colab.research.google.com/github/DhiaDerbeli/Machine_Learning/blob/main/Retropropagation.ipynb\" target=\"_parent\"><img src=\"https://colab.research.google.com/assets/colab-badge.svg\" alt=\"Open In Colab\"/></a>"
      ]
    },
    {
      "cell_type": "code",
      "metadata": {
        "id": "bsyIm-JWPxw9"
      },
      "source": [
        "import numpy as np\n",
        "import random\n",
        "from math import exp"
      ],
      "execution_count": 73,
      "outputs": []
    },
    {
      "cell_type": "code",
      "metadata": {
        "id": "qCQSZnu39lM5"
      },
      "source": [
        "min_error = 0.001\n",
        "learning_rate = 0.3\n",
        "def f(a) :\n",
        "  phi = random.uniform(0,1)\n",
        "  proba = 1/(1 + exp(-a))\n",
        "  return proba\n",
        "\n",
        "def matrix_update(matrix, delta, x) :\n",
        "  rslt = matrix + learning_rate*np.matmul(delta , np.transpose(x))\n",
        "  return rslt\n",
        "\n",
        "def compute_delta(h, error):\n",
        "  return np.multiply(np.multiply(h,(1-h)), error)\n",
        "\n",
        "def still_learning(t, o):\n",
        "  diff = np.abs(t - o)\n",
        "  verif = diff < min_error\n",
        "  if(verif.all()) :\n",
        "    return False\n",
        "\n",
        "  return True"
      ],
      "execution_count": 86,
      "outputs": []
    },
    {
      "cell_type": "code",
      "metadata": {
        "id": "B-akq_vtUysx"
      },
      "source": [
        "x = np.array([[1], [2], [3]])\n",
        "t = np.array([[0.1] ,[0.3], [0.7]])\n",
        "w = np.array([[0.5, 0.3, 0.1], [0.3, 0.2, 0.1]])\n",
        "z = np.array([[0.1, 0.2], [0.3, 0.4], [0.5, 0.6]])\n",
        "\n",
        "\n",
        "b = np.matmul(w,x)\n",
        "h = np.vectorize(f)(b)\n",
        "a = np.matmul(z,h)\n",
        "o = np.vectorize(f)(a)"
      ],
      "execution_count": 89,
      "outputs": []
    },
    {
      "cell_type": "code",
      "metadata": {
        "id": "WW3QkfHbDo_K"
      },
      "source": [
        "learning_rate = 0.3\n",
        "iteration = 0\n",
        "while(still_learning(o,t)) :\n",
        "  iteration = iteration + 1\n",
        "  delta_out = compute_delta(o,t-o)\n",
        "  delta_hidden = compute_delta(h, np.matmul(np.transpose(z),delta_out))\n",
        "  z = matrix_update(z, delta_out, h)\n",
        "  w = matrix_update(w, delta_hidden, x)\n",
        "  b = np.matmul(w,x)\n",
        "  h = np.vectorize(f)(b)\n",
        "  a = np.matmul(z,h)\n",
        "  o = np.vectorize(f)(a)"
      ],
      "execution_count": 90,
      "outputs": []
    },
    {
      "cell_type": "code",
      "metadata": {
        "colab": {
          "base_uri": "https://localhost:8080/"
        },
        "id": "-QyRsDo4W_jk",
        "outputId": "bd1fded0-4249-4068-f065-b82427e36a79"
      },
      "source": [
        "print(\"learning rate : \", learning_rate)\n",
        "print(\"number of iterations : \", iteration)\n",
        "print(\"matrix w : \")\n",
        "print(w)\n",
        "print()\n",
        "print(\"matrix z : \")\n",
        "print(z)\n",
        "print()\n",
        "print(\"predictions : \")\n",
        "print(o)"
      ],
      "execution_count": 91,
      "outputs": [
        {
          "output_type": "stream",
          "name": "stdout",
          "text": [
            "learning rate :  0.3\n",
            "number of iterations :  862\n",
            "matrix w : \n",
            "[[0.59788588 0.49577175 0.39365763]\n",
            " [0.37758088 0.35516177 0.33274265]]\n",
            "\n",
            "matrix z : \n",
            "[[-1.3308668  -1.04970468]\n",
            " [-0.57092903 -0.34865358]\n",
            " [ 0.41054717  0.51834666]]\n",
            "\n",
            "predictions : \n",
            "[[0.10099824]\n",
            " [0.29997438]\n",
            " [0.70003023]]\n"
          ]
        }
      ]
    },
    {
      "cell_type": "code",
      "metadata": {
        "id": "GNW90OXBdSQ7"
      },
      "source": [
        "x = np.array([[1], [2], [3]])\n",
        "t = np.array([[0.1] ,[0.3], [0.7]])\n",
        "w = np.array([[0.5, 0.3, 0.1], [0.3, 0.2, 0.1]])\n",
        "z = np.array([[0.1, 0.2], [0.3, 0.4], [0.5, 0.6]])\n",
        "\n",
        "b = np.matmul(w,x)\n",
        "h = np.vectorize(f)(b)\n",
        "a = np.matmul(z,h)\n",
        "o = np.vectorize(f)(a)"
      ],
      "execution_count": 92,
      "outputs": []
    },
    {
      "cell_type": "code",
      "metadata": {
        "id": "kbvav9pNsqLv"
      },
      "source": [
        "learning_rate = 0.75\n",
        "iteration = 0\n",
        "while(still_learning(o,t)) :\n",
        "  iteration = iteration + 1\n",
        "  delta_out = compute_delta(o,t-o)\n",
        "  delta_hidden = compute_delta(h, np.matmul(np.transpose(z),delta_out))\n",
        "  z = matrix_update(z, delta_out, h)\n",
        "  w = matrix_update(w, delta_hidden, x)\n",
        "  b = np.matmul(w,x)\n",
        "  h = np.vectorize(f)(b)\n",
        "  a = np.matmul(z,h)\n",
        "  o = np.vectorize(f)(a)"
      ],
      "execution_count": 93,
      "outputs": []
    },
    {
      "cell_type": "code",
      "metadata": {
        "colab": {
          "base_uri": "https://localhost:8080/"
        },
        "id": "HHWomu6V9t2k",
        "outputId": "e626a811-70b7-45c3-a7cf-a007f004c519"
      },
      "source": [
        "print(\"learning rate : \", learning_rate)\n",
        "print(\"number of iterations : \", iteration)\n",
        "print(\"matrix w : \")\n",
        "print(w)\n",
        "print()\n",
        "print(\"matrix z : \")\n",
        "print(z)\n",
        "print()\n",
        "print(\"predictions : \")\n",
        "print(o)"
      ],
      "execution_count": 94,
      "outputs": [
        {
          "output_type": "stream",
          "name": "stdout",
          "text": [
            "learning rate :  0.75\n",
            "number of iterations :  343\n",
            "matrix w : \n",
            "[[0.59737509 0.49475018 0.39212527]\n",
            " [0.37627586 0.35255173 0.32882759]]\n",
            "\n",
            "matrix z : \n",
            "[[-1.33408001 -1.04906301]\n",
            " [-0.57260179 -0.34785009]\n",
            " [ 0.41113557  0.51896697]]\n",
            "\n",
            "predictions : \n",
            "[[0.10099592]\n",
            " [0.29997381]\n",
            " [0.700031  ]]\n"
          ]
        }
      ]
    },
    {
      "cell_type": "code",
      "metadata": {
        "id": "VbVtrfCfL1IK"
      },
      "source": [
        ""
      ],
      "execution_count": null,
      "outputs": []
    }
  ]
}