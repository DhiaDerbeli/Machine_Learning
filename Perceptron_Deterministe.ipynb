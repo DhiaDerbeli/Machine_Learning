{
  "nbformat": 4,
  "nbformat_minor": 0,
  "metadata": {
    "colab": {
      "name": "Perceptron Deterministe.ipynb",
      "provenance": [],
      "authorship_tag": "ABX9TyOw+V2JV/MKG1kE+BJxmwgi"
    },
    "kernelspec": {
      "name": "python3",
      "display_name": "Python 3"
    },
    "language_info": {
      "name": "python"
    }
  },
  "cells": [
    {
      "cell_type": "code",
      "metadata": {
        "id": "bsyIm-JWPxw9"
      },
      "source": [
        "import numpy as np"
      ],
      "execution_count": 12,
      "outputs": []
    },
    {
      "cell_type": "code",
      "metadata": {
        "id": "Sp26rnu1SFTv"
      },
      "source": [
        "x = np.array([[1,0,1],[1,1,0],[0,0,1],[0,1,1,]])\n",
        "t = np.array([[0,0,1],[1,1,1],[0,1,0]])\n",
        "v = np.array([[0.9,0.78,0.64],[-0.54,0.52,-0.11],[0.21,-0.09,0.23],[-0.03,0.96,0.58]])\n",
        "iteration = 0\n",
        "learning_rate = 0.75\n",
        "predicted = np.matmul(np.transpose(v),x)\n",
        "for i in range(len(predicted)):\n",
        "  for j in range(len(predicted[0])):\n",
        "    if predicted[i][j] < 0 :\n",
        "      predicted[i][j] = 0\n",
        "    else : \n",
        "      predicted[i][j] = 1\n",
        "while(np.array_equal(predicted,t) == False):\n",
        "  iteration = iteration + 1\n",
        "  v = v + learning_rate*np.matmul(x, np.transpose(t-predicted))\n",
        "  predicted = np.matmul(np.transpose(v),x)\n",
        "  for i in range(len(predicted)):\n",
        "    for j in range(len(predicted[0])):\n",
        "      if predicted[i][j] < 0 :\n",
        "        predicted[i][j] = 0\n",
        "      else : \n",
        "        predicted[i][j] = 1"
      ],
      "execution_count": 13,
      "outputs": []
    },
    {
      "cell_type": "code",
      "metadata": {
        "colab": {
          "base_uri": "https://localhost:8080/"
        },
        "id": "-QyRsDo4W_jk",
        "outputId": "ef9866b6-8f40-46ae-b3d9-aaf7d090034f"
      },
      "source": [
        "print(\"learning rate : \", learning_rate)\n",
        "print(\"number of iterations : \", iteration)\n",
        "print(\"matrix v : \")\n",
        "print(v)\n",
        "print()\n",
        "print(\"predictions : \")\n",
        "print(predicted)"
      ],
      "execution_count": 14,
      "outputs": [
        {
          "output_type": "stream",
          "name": "stdout",
          "text": [
            "learning rate :  0.75\n",
            "number of iterations :  2\n",
            "matrix v : \n",
            "[[ 0.15  0.78 -0.86]\n",
            " [-1.29  0.52 -0.11]\n",
            " [ 0.21 -0.09 -0.52]\n",
            " [-0.03  0.96  0.58]]\n",
            "\n",
            "predictions : \n",
            "[[0. 0. 1.]\n",
            " [1. 1. 1.]\n",
            " [0. 1. 0.]]\n"
          ]
        }
      ]
    },
    {
      "cell_type": "code",
      "metadata": {
        "id": "GNW90OXBdSQ7"
      },
      "source": [
        "x = np.array([[1,0,1],[1,1,0],[0,0,1],[0,1,1,]])\n",
        "t = np.array([[0,0,1],[1,1,1],[0,1,0]])\n",
        "v = np.array([[0.9,0.78,0.64],[-0.54,0.52,-0.11],[0.21,-0.09,0.23],[-0.03,0.96,0.58]])\n",
        "iteration = 0\n",
        "learning_rate = 0.3\n",
        "predicted = np.matmul(np.transpose(v),x)\n",
        "for i in range(len(predicted)):\n",
        "  for j in range(len(predicted[0])):\n",
        "    if predicted[i][j] < 0 :\n",
        "      predicted[i][j] = 0\n",
        "    else : \n",
        "      predicted[i][j] = 1\n",
        "while(np.array_equal(predicted,t) == False):\n",
        "  iteration = iteration + 1\n",
        "  v = v + learning_rate*np.matmul(x, np.transpose(t-predicted))\n",
        "  predicted = np.matmul(np.transpose(v),x)\n",
        "  for i in range(len(predicted)):\n",
        "    for j in range(len(predicted[0])):\n",
        "      if predicted[i][j] < 0 :\n",
        "        predicted[i][j] = 0\n",
        "      else : \n",
        "        predicted[i][j] = 1"
      ],
      "execution_count": 15,
      "outputs": []
    },
    {
      "cell_type": "code",
      "metadata": {
        "id": "kbvav9pNsqLv",
        "colab": {
          "base_uri": "https://localhost:8080/"
        },
        "outputId": "13667ea8-80ea-4d19-9b2d-625b95920266"
      },
      "source": [
        "print(\"learning rate : \", learning_rate)\n",
        "print(\"number of iterations : \", iteration)\n",
        "print(\"matrix v : \")\n",
        "print(v)\n",
        "print()\n",
        "print(\"predictions : \")\n",
        "print(predicted)"
      ],
      "execution_count": 16,
      "outputs": [
        {
          "output_type": "stream",
          "name": "stdout",
          "text": [
            "learning rate :  0.3\n",
            "number of iterations :  2\n",
            "matrix v : \n",
            "[[ 0.6   0.78 -0.26]\n",
            " [-0.84  0.52 -0.11]\n",
            " [ 0.21 -0.09 -0.37]\n",
            " [-0.03  0.96  0.28]]\n",
            "\n",
            "predictions : \n",
            "[[0. 0. 1.]\n",
            " [1. 1. 1.]\n",
            " [0. 1. 0.]]\n"
          ]
        }
      ]
    },
    {
      "cell_type": "code",
      "metadata": {
        "id": "UxXdiOAFzaF1"
      },
      "source": [
        ""
      ],
      "execution_count": null,
      "outputs": []
    }
  ]
}