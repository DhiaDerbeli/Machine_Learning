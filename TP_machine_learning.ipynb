{
  "nbformat": 4,
  "nbformat_minor": 0,
  "metadata": {
    "colab": {
      "name": "TP_machine_learning.ipynb",
      "provenance": [],
      "authorship_tag": "ABX9TyMNB8o55kayvJf36fFm/2XR",
      "include_colab_link": true
    },
    "kernelspec": {
      "name": "python3",
      "display_name": "Python 3"
    },
    "language_info": {
      "name": "python"
    }
  },
  "cells": [
    {
      "cell_type": "markdown",
      "metadata": {
        "id": "view-in-github",
        "colab_type": "text"
      },
      "source": [
        "<a href=\"https://colab.research.google.com/github/DhiaDerbeli/Machine_Learning/blob/main/TP_machine_learning.ipynb\" target=\"_parent\"><img src=\"https://colab.research.google.com/assets/colab-badge.svg\" alt=\"Open In Colab\"/></a>"
      ]
    },
    {
      "cell_type": "code",
      "metadata": {
        "id": "bsyIm-JWPxw9"
      },
      "source": [
        "import numpy as np"
      ],
      "execution_count": 81,
      "outputs": []
    },
    {
      "cell_type": "code",
      "metadata": {
        "id": "cqOmZKhTP3o5"
      },
      "source": [
        "x = np.array([[1,0,1],[1,1,0],[0,0,1],[0,1,1,]])"
      ],
      "execution_count": 82,
      "outputs": []
    },
    {
      "cell_type": "code",
      "metadata": {
        "id": "e8qd5FYgQHd0"
      },
      "source": [
        "t = np.array([[0,0,1],[1,1,1],[0,1,0]])"
      ],
      "execution_count": 83,
      "outputs": []
    },
    {
      "cell_type": "code",
      "metadata": {
        "id": "or8sPQbMRIHY"
      },
      "source": [
        "v = np.array([[0.9,0.78,0.64],[-0.54,0.52,-0.11],[0.21,-0.09,0.23],[-0.03,0.96,0.58]])"
      ],
      "execution_count": 84,
      "outputs": []
    },
    {
      "cell_type": "code",
      "metadata": {
        "id": "IG3E0F1bRqAS"
      },
      "source": [
        "predicted = np.matmul(np.transpose(v),x)"
      ],
      "execution_count": 85,
      "outputs": []
    },
    {
      "cell_type": "code",
      "metadata": {
        "id": "gblNeRk7R_iS"
      },
      "source": [
        "learning_rate = 0.75\n"
      ],
      "execution_count": 86,
      "outputs": []
    },
    {
      "cell_type": "code",
      "metadata": {
        "id": "Sp26rnu1SFTv"
      },
      "source": [
        "for i in range(len(predicted)):\n",
        "  for j in range(len(predicted[0])):\n",
        "    if predicted[i][j] < 0 :\n",
        "      predicted[i][j] = 0\n",
        "    else : \n",
        "      predicted[i][j] = 1"
      ],
      "execution_count": 87,
      "outputs": []
    },
    {
      "cell_type": "code",
      "metadata": {
        "id": "B-akq_vtUysx"
      },
      "source": [
        "while(np.array_equal(predicted,t) == False):\n",
        "  v = v + learning_rate*np.matmul(x, np.transpose(t-predicted))\n",
        "  predicted = np.matmul(np.transpose(v),x)\n",
        "  for i in range(len(predicted)):\n",
        "    for j in range(len(predicted[0])):\n",
        "      if predicted[i][j] < 0 :\n",
        "        predicted[i][j] = 0\n",
        "      else : \n",
        "        predicted[i][j] = 1"
      ],
      "execution_count": 88,
      "outputs": []
    },
    {
      "cell_type": "code",
      "metadata": {
        "colab": {
          "base_uri": "https://localhost:8080/"
        },
        "id": "-QyRsDo4W_jk",
        "outputId": "f33af62c-7a97-44d8-ac00-7f8a1a9fc7e4"
      },
      "source": [
        "# learning rate = 0.75 , matrix formula :\n",
        "print(v)"
      ],
      "execution_count": 91,
      "outputs": [
        {
          "output_type": "stream",
          "name": "stdout",
          "text": [
            "[[ 0.15  0.78 -0.86]\n",
            " [-1.29  0.52 -0.11]\n",
            " [ 0.21 -0.09 -0.52]\n",
            " [-0.03  0.96  0.58]]\n"
          ]
        }
      ]
    },
    {
      "cell_type": "code",
      "metadata": {
        "colab": {
          "base_uri": "https://localhost:8080/"
        },
        "id": "GNW90OXBdSQ7",
        "outputId": "949695b0-ffa9-4b3d-f51e-4ba1cea528e0"
      },
      "source": [
        "#learning rate = 0.3 , matrix formula\n",
        "v = np.array([[0.9,0.78,0.64],[-0.54,0.52,-0.11],[0.21,-0.09,0.23],[-0.03,0.96,0.58]])\n",
        "predicted = np.matmul(np.transpose(v),x)\n",
        "learning_rate = 0.3\n",
        "for i in range(len(predicted)):\n",
        "  for j in range(len(predicted[0])):\n",
        "    if predicted[i][j] < 0 :\n",
        "      predicted[i][j] = 0\n",
        "    else : \n",
        "      predicted[i][j] = 1\n",
        "while(np.array_equal(predicted,t) == False):\n",
        "  v = v + learning_rate*np.matmul(x, np.transpose(t-predicted))\n",
        "  predicted = np.matmul(np.transpose(v),x)\n",
        "  for i in range(len(predicted)):\n",
        "    for j in range(len(predicted[0])):\n",
        "      if predicted[i][j] < 0 :\n",
        "        predicted[i][j] = 0\n",
        "      else : \n",
        "        predicted[i][j] = 1\n",
        "print(v)"
      ],
      "execution_count": 93,
      "outputs": [
        {
          "output_type": "stream",
          "name": "stdout",
          "text": [
            "[[ 0.6   0.78 -0.26]\n",
            " [-0.84  0.52 -0.11]\n",
            " [ 0.21 -0.09 -0.37]\n",
            " [-0.03  0.96  0.28]]\n"
          ]
        }
      ]
    },
    {
      "cell_type": "code",
      "metadata": {
        "id": "kbvav9pNsqLv"
      },
      "source": [
        ""
      ],
      "execution_count": null,
      "outputs": []
    },
    {
      "cell_type": "code",
      "metadata": {
        "id": "WUF_HBxId-EP"
      },
      "source": [
        ""
      ],
      "execution_count": null,
      "outputs": []
    }
  ]
}